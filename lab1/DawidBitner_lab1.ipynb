{
 "cells": [
  {
   "cell_type": "markdown",
   "metadata": {},
   "source": [
    "# I - Algorytmy podstawowe"
   ]
  },
  {
   "cell_type": "markdown",
   "metadata": {},
   "source": [
    "### zad. 1\n",
    "Wyszukiwania największej liczby w danym zbiorze (każda liczba jest oddzielona średni-kiem i mogą to być liczby zmiennoprzecinkowe)"
   ]
  },
  {
   "cell_type": "code",
   "execution_count": 1,
   "metadata": {},
   "outputs": [
    {
     "name": "stdout",
     "output_type": "stream",
     "text": [
      "['1', '2', '2137', '0', '-11', '66']\n",
      "66\n"
     ]
    }
   ],
   "source": [
    "f = open('liczby.txt','r')\n",
    "numbers = f.read()\n",
    "array = numbers.split(';')\n",
    "\n",
    "def bNumber(array):\n",
    "    if (len(array)==0): return\n",
    "    max = array[0]\n",
    "    for el in array:\n",
    "        if (el>max): max=el\n",
    "    return max\n",
    "\n",
    "print(array)\n",
    "print(bNumber(array))"
   ]
  },
  {
   "cell_type": "markdown",
   "metadata": {},
   "source": [
    "### zad. 2\n",
    "Konwersja odwrotnej notacji polskiej (w obie strony)"
   ]
  },
  {
   "cell_type": "code",
   "execution_count": 2,
   "metadata": {},
   "outputs": [
    {
     "name": "stdout",
     "output_type": "stream",
     "text": [
      "2 + 3 -4 +10-700 = 2 3 + 4 - 10 + 700 -\n",
      "2 3 + 4 - 10 + 700 - = 2 + 3 - 4 + 10 - 700\n"
     ]
    }
   ],
   "source": [
    "import os\n",
    "import sys\n",
    "import re\n",
    "\n",
    "def regular_to_rpn(regular):\n",
    "    regular = regular.replace(' ', '')\n",
    "    rpn = ''\n",
    "\n",
    "    numbers = []\n",
    "    for num in range(10):\n",
    "        numbers.append(str(num))\n",
    "\n",
    "    i = 0\n",
    "    char = regular[i]\n",
    "    symbol = ''\n",
    "    while True:\n",
    "        if char in numbers:\n",
    "            rpn = rpn + char\n",
    "        else:\n",
    "            rpn = rpn + ' ' + symbol + ' '\n",
    "            symbol = char\n",
    "\n",
    "        i = i + 1\n",
    "        if i >= len(regular):\n",
    "            rpn = rpn + ' ' + symbol\n",
    "            break\n",
    "        char = regular[i]\n",
    "    rpn = re.sub(' +', ' ', rpn)\n",
    "    return rpn\n",
    "\n",
    "def rpn_to_regular(rpn):\n",
    "    regular = ''\n",
    "\n",
    "    numbers = []\n",
    "    for num in range(10):\n",
    "        numbers.append(str(num))\n",
    "\n",
    "    i = 0\n",
    "    char = rpn[i]\n",
    "    number = ''\n",
    "    stack = []\n",
    "\n",
    "    while True:\n",
    "        if char in numbers:\n",
    "            number = number + char\n",
    "        elif char == ' ' or i == len(rpn):\n",
    "            if number != '':\n",
    "                stack.append(number)\n",
    "            number = ''\n",
    "        else:\n",
    "            tmp = stack.pop()\n",
    "\n",
    "            if len(stack) == 1:\n",
    "                regular = regular + stack.pop()\n",
    "            \n",
    "            regular = regular + ' ' + char + ' ' + tmp\n",
    "            number = ''\n",
    "        \n",
    "        i = i + 1\n",
    "        if i >= len(rpn):\n",
    "            break\n",
    "        char = rpn[i]\n",
    "    \n",
    "    return regular\n",
    "\n",
    "def main():\n",
    "    equation = '2 + 3 -4 +10-700'\n",
    "    rpn = regular_to_rpn(equation)\n",
    "    print(equation, '=', rpn)\n",
    "\n",
    "    regular = rpn_to_regular(rpn)\n",
    "    print(rpn, '=', regular)\n",
    "\n",
    "if __name__ == \"__main__\":\n",
    "    main()\n"
   ]
  }
 ],
 "metadata": {
  "kernelspec": {
   "display_name": "Python 3",
   "language": "python",
   "name": "python3"
  },
  "language_info": {
   "codemirror_mode": {
    "name": "ipython",
    "version": 3
   },
   "file_extension": ".py",
   "mimetype": "text/x-python",
   "name": "python",
   "nbconvert_exporter": "python",
   "pygments_lexer": "ipython3",
   "version": "3.7.6"
  }
 },
 "nbformat": 4,
 "nbformat_minor": 4
}
