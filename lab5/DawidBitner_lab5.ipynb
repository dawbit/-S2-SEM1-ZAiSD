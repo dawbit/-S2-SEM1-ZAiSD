{
 "cells": [
  {
   "cell_type": "markdown",
   "metadata": {},
   "source": [
    "# V - Algorytmy kodowania"
   ]
  },
  {
   "cell_type": "markdown",
   "metadata": {},
   "source": [
    "### zad. 1\n",
    "Cezafra z dowolnym przesunięciem"
   ]
  },
  {
   "cell_type": "code",
   "execution_count": 1,
   "metadata": {},
   "outputs": [
    {
     "name": "stdout",
     "output_type": "stream",
     "text": [
      "Content: ambafatima\n",
      "Encrypted content: ['n', 'z', 'o', 'n', 's', 'n', 'g', 'v', 'z', 'n']\n"
     ]
    }
   ],
   "source": [
    "def caesarCypher(text, shift):\n",
    "    encryptedText = \"\";\n",
    "\n",
    "    for i in range(len(text)):\n",
    "        char = text[i]\n",
    "        if (ord(char) >= 65 and ord(char) <= 90) or (ord(char) >= 97 and ord(char) <= 122):\n",
    "            if ord(char) >= 65 and ord(char) <= 90:\n",
    "                encryptedText += chr((ord(char) + shift - 65) % 26 + 65)\n",
    "            else:\n",
    "                encryptedText += chr((ord(char) + shift - 97) % 26 + 97)\n",
    "        else:\n",
    "            encryptedText += char\n",
    "\n",
    "    return encryptedText\n",
    "\n",
    "def encrypt(content,  shift):\n",
    "    encryptedContent = []  \n",
    "    print(\"Content: \" + str(content))\n",
    "    \n",
    "    for index in range(len(content)):\n",
    "        encryptedContent.append(caesarCypher(content[index], shift))\n",
    "    \n",
    "    print(\"Encrypted content: \" + str(encryptedContent))\n",
    "\n",
    "encrypt(\"ambafatima\", 13)"
   ]
  },
  {
   "cell_type": "markdown",
   "metadata": {},
   "source": [
    "### zad. 2\n",
    "Huffmana"
   ]
  },
  {
   "cell_type": "code",
   "execution_count": 2,
   "metadata": {},
   "outputs": [
    {
     "name": "stdout",
     "output_type": "stream",
     "text": [
      " Char | Frequency | Huffman code \n",
      "--------------------------------\n",
      " 'a'  |         4 |           0\n",
      " 'm'  |         2 |         111\n",
      " 'b'  |         1 |         100\n",
      " ' '  |         1 |        1011\n",
      " 'f'  |         1 |        1010\n",
      " 't'  |         1 |        1101\n",
      " 'i'  |         1 |        1100\n",
      "Encoded text: 01111000101110100110111001110\n"
     ]
    }
   ],
   "source": [
    "class NodeTree(object):\n",
    "    def __init__(self, left=None, right=None):\n",
    "        self.left = left\n",
    "        self.right = right\n",
    "\n",
    "    def children(self):\n",
    "        return self.left, self.right\n",
    "\n",
    "    def __str__(self):\n",
    "        return '%s_%s' % (self.left, self.right)\n",
    "\n",
    "\n",
    "class HuffmanEncoding:\n",
    "    def __init__(self, text):\n",
    "        self.text = text\n",
    "        self.huffman_table = None\n",
    "        self.encoded_text = \"\"\n",
    "        self.__nodes = None\n",
    "        self.__frequencies = {}\n",
    "\n",
    "        self.__encode()\n",
    "\n",
    "    def __huffman_code_tree(self, node, left=True, bin_string=''):\n",
    "        if type(node) is str:\n",
    "            return {node: bin_string}\n",
    "        (l, r) = node.children()\n",
    "        d = dict()\n",
    "        d.update(self.__huffman_code_tree(l, True, bin_string + '0'))\n",
    "        d.update(self.__huffman_code_tree(r, False, bin_string + '1'))\n",
    "        return d\n",
    "\n",
    "    def __count_frequencies(self):\n",
    "        self.__frequencies = {}\n",
    "        for c in self.text:\n",
    "            if c in self.__frequencies:\n",
    "                self.__frequencies[c] += 1\n",
    "            else:\n",
    "                self.__frequencies[c] = 1\n",
    "\n",
    "        self.__frequencies = sorted(self.__frequencies.items(), key=lambda x: x[1], reverse=True)\n",
    "\n",
    "    def __create_leafs(self):\n",
    "        self.__nodes = self.__frequencies\n",
    "\n",
    "        while len(self.__nodes) > 1:\n",
    "            (key1, c1) = self.__nodes[-1]\n",
    "            (key2, c2) = self.__nodes[-2]\n",
    "            self.__nodes = self.__nodes[:-2]\n",
    "            node = NodeTree(key1, key2)\n",
    "            self.__nodes.append((node, c1 + c2))\n",
    "\n",
    "            self.__nodes = sorted(self.__nodes, key=lambda x: x[1], reverse=True)\n",
    "\n",
    "    def __encode(self):\n",
    "        self.__count_frequencies()\n",
    "        self.__create_leafs()\n",
    "        self.huffman_table = self.__huffman_code_tree(self.__nodes[0][0])\n",
    "\n",
    "        print(' Char | Frequency | Huffman code ')\n",
    "        print('--------------------------------')\n",
    "        for (character, frequency) in self.__frequencies:\n",
    "            print(' %-4r | %9s |%12s' % (character, frequency, self.huffman_table[character]))\n",
    "\n",
    "        for character in self.text:\n",
    "            self.encoded_text += self.huffman_table[character]\n",
    "\n",
    "        print(\"Encoded text:\", self.encoded_text)\n",
    "\n",
    "\n",
    "if __name__ == '__main__':\n",
    "    sentence = \"amba fatima\"\n",
    "    huffman = HuffmanEncoding(sentence)"
   ]
  },
  {
   "cell_type": "markdown",
   "metadata": {},
   "source": [
    "# zad. 3\n",
    "Shannona-Fano"
   ]
  },
  {
   "cell_type": "code",
   "execution_count": 3,
   "metadata": {},
   "outputs": [
    {
     "name": "stdout",
     "output_type": "stream",
     "text": [
      "00001111100000011111100011110110101100000101001001000110011001001011101010111010\n"
     ]
    }
   ],
   "source": [
    "s = \"AMBA FATIMA OOO UKULELE\"\n",
    "S = set(s)\n",
    "w = []\n",
    "T = dict(map(lambda x: [x,''],S))\n",
    "\n",
    "for i in S:\n",
    "    w.append([i,s.count(i)])\n",
    "\n",
    "w.sort(key=lambda x: x[1],reverse = True)\n",
    "    \n",
    "def Sh(C,W):\n",
    "    if len(W) == 1:\n",
    "        T[W[0][0]] = C\n",
    "    elif len(W) == 2:\n",
    "        T[W[0][0]] = C + '0'\n",
    "        T[W[1][0]] = C + '1'\n",
    "    else:\n",
    "        imin_v = float('inf')\n",
    "        imin = 1\n",
    "        for i in range(1,len(W)):\n",
    "            a = abs(sum(map(lambda x: x[1],W[:i])) - sum(map(lambda x: x[1],W[i:])))\n",
    "            if a < imin_v:\n",
    "                imin_v = a\n",
    "                imin = i\n",
    "        Sh(C+'0',W[:imin])\n",
    "        Sh(C+'1',W[imin:])\n",
    "                  \n",
    "Sh('',w)\n",
    "c = \"\"\n",
    "for i in s:\n",
    "    c += T[i]\n",
    "\n",
    "print(c)"
   ]
  }
 ],
 "metadata": {
  "kernelspec": {
   "display_name": "Python 3",
   "language": "python",
   "name": "python3"
  },
  "language_info": {
   "codemirror_mode": {
    "name": "ipython",
    "version": 3
   },
   "file_extension": ".py",
   "mimetype": "text/x-python",
   "name": "python",
   "nbconvert_exporter": "python",
   "pygments_lexer": "ipython3",
   "version": "3.7.6"
  }
 },
 "nbformat": 4,
 "nbformat_minor": 4
}
