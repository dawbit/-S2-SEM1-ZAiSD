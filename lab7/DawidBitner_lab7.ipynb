{
 "cells": [
  {
   "cell_type": "markdown",
   "metadata": {},
   "source": [
    "# VII - Algorytmy heurystyczne"
   ]
  },
  {
   "cell_type": "markdown",
   "metadata": {},
   "source": [
    "Algorytm genetyczny // przepisany z Metod Heurystycznych z Mathematici"
   ]
  },
  {
   "cell_type": "code",
   "execution_count": 1,
   "metadata": {},
   "outputs": [
    {
     "name": "stdout",
     "output_type": "stream",
     "text": [
      "[[ 2.51296663 -2.35897905 -1.08341019  2.88872121  3.77151196  0.52267973]\n",
      " [ 1.72548506 -2.147338    2.12506132  0.9413221   3.93441903  1.22235778]\n",
      " [-1.77595856  2.54901789 -1.63821959 -3.50462803  2.50190019 -1.88989499]\n",
      " [-0.14420629 -2.36324143  3.22566151 -3.41006009 -0.6880915  -3.42058589]\n",
      " [ 3.3079872   0.28548034 -0.35566631 -2.82761623  0.30357639  1.68401035]\n",
      " [ 3.99733925  1.12712226  3.80692575  1.2375529  -0.69313892 -0.60113633]\n",
      " [-3.82758392 -1.18432513 -1.60511475 -3.8744885   0.45159954 -0.54808317]\n",
      " [-0.69626903  3.4394972  -1.24287323  2.65221483  3.80352726  1.60407211]]\n",
      "Generation :  0\n",
      "Best result :  26.1821930244086\n",
      "Generation :  1\n",
      "Best result :  26.810674960697607\n",
      "Generation :  2\n",
      "Best result :  26.810674960697607\n",
      "Generation :  3\n",
      "Best result :  27.25504581611416\n",
      "Generation :  4\n",
      "Best result :  27.504881418845553\n",
      "Best solution :  [[[ 3.99733925  1.12712226  3.80692575  1.2375529  -0.69313892\n",
      "    0.5399734 ]]]\n",
      "Best solution fitness :  [27.50488142]\n"
     ]
    }
   ],
   "source": [
    "import numpy\n",
    "\n",
    "class Genetic:\n",
    "    def optimization(self, generations, equation_inputs, num_weights, sol_per_pop, num_parents_mating):\n",
    "        pop_size = (sol_per_pop,num_weights)\n",
    "        new_population = numpy.random.uniform(low=-4.0, high=4.0, size=pop_size)\n",
    "        print(new_population)\n",
    "\n",
    "        for generation in range(generations):\n",
    "            print(\"Generation : \", generation)\n",
    "            # Ocena jakości\n",
    "            fitness = self.__cal_pop_fitness(equation_inputs, new_population)\n",
    "\n",
    "            # Wybór najlepszych rodziców\n",
    "            parents = self.__select_mating_pool(new_population, fitness, num_parents_mating)\n",
    "\n",
    "            # Krzyzowanie\n",
    "            offspring_crossover = self.__crossover(parents, offspring_size=(pop_size[0]-parents.shape[0], num_weights))\n",
    "\n",
    "            # Mutacja\n",
    "            offspring_mutation = self.__mutation(offspring_crossover)\n",
    "\n",
    "            # Selekcja\n",
    "            new_population[0:parents.shape[0], :] = parents\n",
    "            new_population[parents.shape[0]:, :] = offspring_mutation\n",
    "\n",
    "            print(\"Best result : \", numpy.max(numpy.sum(new_population*equation_inputs, axis=1)))\n",
    "\n",
    "        fitness = self.__cal_pop_fitness(equation_inputs, new_population)\n",
    "        best_match_idx = numpy.where(fitness == numpy.max(fitness))\n",
    "\n",
    "        print(\"Best solution : \", new_population[best_match_idx, :])\n",
    "        print(\"Best solution fitness : \", fitness[best_match_idx])\n",
    "\n",
    "    def __cal_pop_fitness(self, equation_inputs, pop):\n",
    "        fitness = numpy.sum(pop*equation_inputs, axis=1)\n",
    "        return fitness\n",
    "\n",
    "    def __select_mating_pool(self, pop, fitness, num_parents):\n",
    "        parents = numpy.empty((num_parents, pop.shape[1]))\n",
    "        for parent_num in range(num_parents):\n",
    "            max_fitness_idx = numpy.where(fitness == numpy.max(fitness))\n",
    "            max_fitness_idx = max_fitness_idx[0][0]\n",
    "            parents[parent_num, :] = pop[max_fitness_idx, :]\n",
    "            fitness[max_fitness_idx] = -99999999999\n",
    "        return parents\n",
    "\n",
    "    def __crossover(self, parents, offspring_size):\n",
    "        offspring = numpy.empty(offspring_size)\n",
    "        crossover_point = numpy.uint8(offspring_size[1]/2)\n",
    "\n",
    "        for k in range(offspring_size[0]):\n",
    "            parent1_idx = k%parents.shape[0]\n",
    "            parent2_idx = (k+1)%parents.shape[0]\n",
    "            offspring[k, 0:crossover_point] = parents[parent1_idx, 0:crossover_point]\n",
    "            offspring[k, crossover_point:] = parents[parent2_idx, crossover_point:]\n",
    "        return offspring\n",
    "\n",
    "    def __mutation(self, offspring_crossover, num_mutations=1):\n",
    "        mutations_counter = numpy.uint8(offspring_crossover.shape[1] / num_mutations)\n",
    "        for idx in range(offspring_crossover.shape[0]):\n",
    "            gene_idx = mutations_counter - 1\n",
    "            for mutation_num in range(num_mutations):\n",
    "                random_value = numpy.random.uniform(-1.0, 1.0, 1)\n",
    "                offspring_crossover[idx, gene_idx] = offspring_crossover[idx, gene_idx] + random_value\n",
    "                gene_idx = gene_idx + mutations_counter\n",
    "        return offspring_crossover\n",
    "\n",
    "\n",
    "inputs = [2,-1,3,5,-2.5,2.4]\n",
    "weights = 6\n",
    "sol_per_pop = 8\n",
    "parents_mating = 4\n",
    "\n",
    "genetic = Genetic()\n",
    "genetic.optimization(5, inputs, weights, sol_per_pop, parents_mating)"
   ]
  }
 ],
 "metadata": {
  "kernelspec": {
   "display_name": "Python 3",
   "language": "python",
   "name": "python3"
  },
  "language_info": {
   "codemirror_mode": {
    "name": "ipython",
    "version": 3
   },
   "file_extension": ".py",
   "mimetype": "text/x-python",
   "name": "python",
   "nbconvert_exporter": "python",
   "pygments_lexer": "ipython3",
   "version": "3.7.6"
  }
 },
 "nbformat": 4,
 "nbformat_minor": 4
}
