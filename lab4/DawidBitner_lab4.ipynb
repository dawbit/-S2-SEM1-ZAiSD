{
 "cells": [
  {
   "cell_type": "markdown",
   "metadata": {},
   "source": [
    "# V - Algorytmy wyszukiwania wzorca"
   ]
  },
  {
   "cell_type": "markdown",
   "metadata": {},
   "source": [
    "### zad. 1\n",
    "Naiwny"
   ]
  },
  {
   "cell_type": "code",
   "execution_count": 1,
   "metadata": {},
   "outputs": [
    {
     "name": "stdout",
     "output_type": "stream",
     "text": [
      "W tekście 'amba fatima' nie występuje 'fatima'\n",
      "W tekście 'amba fatima' nie występuje 'fatima'\n",
      "W tekście 'amba fatima' nie występuje 'fatima'\n",
      "W tekście 'amba fatima' nie występuje 'fatima'\n",
      "W tekście 'amba fatima' nie występuje 'fatima'\n",
      "W tekście 'amba fatima' występuje 'fatima'\n",
      "W tekście 'amba fatima' nie występuje 'fatima'\n",
      "W tekście 'amba fatima' nie występuje 'fatima'\n",
      "W tekście 'amba fatima' nie występuje 'fatima'\n",
      "W tekście 'amba fatima' nie występuje 'fatima'\n",
      "W tekście 'amba fatima' nie występuje 'fatima'\n",
      "W tekście 'amba fatima' nie występuje 'fatima'\n"
     ]
    }
   ],
   "source": [
    "def naiwny(tekst, wzor):\n",
    "    a = len(tekst)\n",
    "    b = len(wzor)\n",
    "    for i in range(0, a):\n",
    "        j = 0;\n",
    "        while (j < b and tekst[i + j] == wzor[j]):\n",
    "            j += 1\n",
    "        if (j > 0 and j == b):\n",
    "            print('W tekście \\'' + tekst + '\\' występuje \\'' + wzor + '\\'')\n",
    "        print('W tekście \\'' + tekst + '\\' nie występuje \\'' + wzor + '\\'')\n",
    "\n",
    "        \n",
    "def main():\n",
    "    tekst = \"amba fatima\"\n",
    "    wzor = \"fatima\"\n",
    "    naiwny(tekst, wzor)\n",
    "\n",
    "if __name__ == '__main__':\n",
    "    main()"
   ]
  },
  {
   "cell_type": "markdown",
   "metadata": {},
   "source": [
    "### zad. 2\n",
    "Boyer-Moore"
   ]
  },
  {
   "cell_type": "code",
   "execution_count": 2,
   "metadata": {},
   "outputs": [
    {
     "name": "stdout",
     "output_type": "stream",
     "text": [
      "Odnaleziono wzorzec w tekscie na pozycji  5\n"
     ]
    }
   ],
   "source": [
    "text = \"amba fatima\"\n",
    "find = \"fatima\"\n",
    "\n",
    "def findShiftTable(stringToFind):\n",
    "    d = dict()\n",
    "\n",
    "    stringToFind = stringToFind[::-1]\n",
    "\n",
    "    for i in range (0, len(stringToFind)):\n",
    "        if stringToFind[i] not in d:\n",
    "            d[stringToFind[i]] = i\n",
    "    return d\n",
    "\n",
    "\n",
    "def BoyerMoore(inputString, stringToFind):\n",
    "    if len(stringToFind) > len(inputString):\n",
    "        return -1\n",
    "\n",
    "    i = len(stringToFind) - 1\n",
    "    j = len(stringToFind) - 1\n",
    "    d = findShiftTable(stringToFind)\n",
    "    M = len(stringToFind)\n",
    "\n",
    "    while j > 0:\n",
    "        while inputString[i] != stringToFind[j]:\n",
    "            if inputString[i] not in d:\n",
    "                x = M\n",
    "            else:\n",
    "                x = d[inputString[i]]\n",
    "\n",
    "            if M - j > x:\n",
    "                i += M - j\n",
    "            else:\n",
    "                i += x\n",
    "\n",
    "            if i > len(inputString)-1:\n",
    "                return -1\n",
    "\n",
    "            j = M - 1\n",
    "        i -= 1\n",
    "        j -= 1\n",
    "    return i\n",
    "\n",
    "\n",
    "i = BoyerMoore(text, find)\n",
    "\n",
    "if i == -1:\n",
    "    print(\"Nie odnaleziono wzorca w tekscie\")\n",
    "else:\n",
    "    print(\"Odnaleziono wzorzec w tekscie na pozycji \", i)\n",
    "\n"
   ]
  },
  {
   "cell_type": "markdown",
   "metadata": {},
   "source": [
    "# zad. 3\n",
    "Karpa-Rabina"
   ]
  },
  {
   "cell_type": "code",
   "execution_count": 3,
   "metadata": {},
   "outputs": [
    {
     "name": "stdout",
     "output_type": "stream",
     "text": [
      "Odnaleziono wzorzec w tekscie na pozycji 5\n"
     ]
    }
   ],
   "source": [
    "string = \"amba fatima\"\n",
    "pattern = \"fatima\"\n",
    "\n",
    "string_len = len(string)\n",
    "pattern_len = len(pattern)\n",
    "\n",
    "hp = hash(pattern)\n",
    "hs = hash(string[0:pattern_len])\n",
    "\n",
    "i = 0\n",
    "counter = 0\n",
    "\n",
    "while i <= (string_len - pattern_len + 1):\n",
    "    if hs != hp:\n",
    "        i += 1\n",
    "        hs = hash(string[i:i+pattern_len])\n",
    "    else:\n",
    "        print('Odnaleziono wzorzec w tekscie na pozycji ' + str(i))\n",
    "        counter += 1\n",
    "        i += 1\n",
    "        hs = hash(string[i:i + pattern_len])\n",
    "\n",
    "if counter == 0:\n",
    "    print('Nie odnaleziono wzorca w tekscie')"
   ]
  }
 ],
 "metadata": {
  "kernelspec": {
   "display_name": "Python 3",
   "language": "python",
   "name": "python3"
  },
  "language_info": {
   "codemirror_mode": {
    "name": "ipython",
    "version": 3
   },
   "file_extension": ".py",
   "mimetype": "text/x-python",
   "name": "python",
   "nbconvert_exporter": "python",
   "pygments_lexer": "ipython3",
   "version": "3.7.6"
  }
 },
 "nbformat": 4,
 "nbformat_minor": 4
}
